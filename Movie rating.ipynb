{
 "cells": [
  {
   "cell_type": "code",
   "execution_count": 1,
   "id": "bcdb212a",
   "metadata": {},
   "outputs": [],
   "source": [
    "import pandas as pd\n",
    "import numpy as np\n",
    "import pickle"
   ]
  },
  {
   "cell_type": "code",
   "execution_count": 2,
   "id": "8ea8850a",
   "metadata": {},
   "outputs": [],
   "source": [
    "import pandas as pd\n",
    "rating = pd.read_csv(\"Movie rating.csv\")"
   ]
  },
  {
   "cell_type": "code",
   "execution_count": 3,
   "id": "247177e9",
   "metadata": {},
   "outputs": [
    {
     "data": {
      "text/html": [
       "<div>\n",
       "<style scoped>\n",
       "    .dataframe tbody tr th:only-of-type {\n",
       "        vertical-align: middle;\n",
       "    }\n",
       "\n",
       "    .dataframe tbody tr th {\n",
       "        vertical-align: top;\n",
       "    }\n",
       "\n",
       "    .dataframe thead th {\n",
       "        text-align: right;\n",
       "    }\n",
       "</style>\n",
       "<table border=\"1\" class=\"dataframe\">\n",
       "  <thead>\n",
       "    <tr style=\"text-align: right;\">\n",
       "      <th></th>\n",
       "      <th>Name</th>\n",
       "      <th>Year</th>\n",
       "      <th>Duration</th>\n",
       "      <th>Genre</th>\n",
       "      <th>Rating</th>\n",
       "      <th>Votes</th>\n",
       "      <th>Director</th>\n",
       "      <th>Actor 1</th>\n",
       "      <th>Actor 2</th>\n",
       "      <th>Actor 3</th>\n",
       "    </tr>\n",
       "  </thead>\n",
       "  <tbody>\n",
       "    <tr>\n",
       "      <th>0</th>\n",
       "      <td>#Gadhvi (He thought he was Gandhi)</td>\n",
       "      <td>-2019.0</td>\n",
       "      <td>109 min</td>\n",
       "      <td>Drama</td>\n",
       "      <td>7.0</td>\n",
       "      <td>8</td>\n",
       "      <td>Gaurav Bakshi</td>\n",
       "      <td>Rasika Dugal</td>\n",
       "      <td>Vivek Ghamande</td>\n",
       "      <td>Arvind Jangid</td>\n",
       "    </tr>\n",
       "    <tr>\n",
       "      <th>1</th>\n",
       "      <td>#Yaaram</td>\n",
       "      <td>-2019.0</td>\n",
       "      <td>110 min</td>\n",
       "      <td>Comedy, Romance</td>\n",
       "      <td>4.4</td>\n",
       "      <td>35</td>\n",
       "      <td>Ovais Khan</td>\n",
       "      <td>Prateik</td>\n",
       "      <td>Ishita Raj</td>\n",
       "      <td>Siddhant Kapoor</td>\n",
       "    </tr>\n",
       "    <tr>\n",
       "      <th>2</th>\n",
       "      <td>...Aur Pyaar Ho Gaya</td>\n",
       "      <td>-1997.0</td>\n",
       "      <td>147 min</td>\n",
       "      <td>Comedy, Drama, Musical</td>\n",
       "      <td>4.7</td>\n",
       "      <td>827</td>\n",
       "      <td>Rahul Rawail</td>\n",
       "      <td>Bobby Deol</td>\n",
       "      <td>Aishwarya Rai Bachchan</td>\n",
       "      <td>Shammi Kapoor</td>\n",
       "    </tr>\n",
       "    <tr>\n",
       "      <th>3</th>\n",
       "      <td>...Yahaan</td>\n",
       "      <td>-2005.0</td>\n",
       "      <td>142 min</td>\n",
       "      <td>Drama, Romance, War</td>\n",
       "      <td>7.4</td>\n",
       "      <td>1,086</td>\n",
       "      <td>Shoojit Sircar</td>\n",
       "      <td>Jimmy Sheirgill</td>\n",
       "      <td>Minissha Lamba</td>\n",
       "      <td>Yashpal Sharma</td>\n",
       "    </tr>\n",
       "    <tr>\n",
       "      <th>4</th>\n",
       "      <td>?: A Question Mark</td>\n",
       "      <td>-2012.0</td>\n",
       "      <td>82 min</td>\n",
       "      <td>Horror, Mystery, Thriller</td>\n",
       "      <td>5.6</td>\n",
       "      <td>326</td>\n",
       "      <td>Allyson Patel</td>\n",
       "      <td>Yash Dave</td>\n",
       "      <td>Muntazir Ahmad</td>\n",
       "      <td>Kiran Bhatia</td>\n",
       "    </tr>\n",
       "    <tr>\n",
       "      <th>...</th>\n",
       "      <td>...</td>\n",
       "      <td>...</td>\n",
       "      <td>...</td>\n",
       "      <td>...</td>\n",
       "      <td>...</td>\n",
       "      <td>...</td>\n",
       "      <td>...</td>\n",
       "      <td>...</td>\n",
       "      <td>...</td>\n",
       "      <td>...</td>\n",
       "    </tr>\n",
       "    <tr>\n",
       "      <th>5654</th>\n",
       "      <td>Zubaan</td>\n",
       "      <td>-2015.0</td>\n",
       "      <td>115 min</td>\n",
       "      <td>Drama</td>\n",
       "      <td>6.1</td>\n",
       "      <td>408</td>\n",
       "      <td>Mozez Singh</td>\n",
       "      <td>Vicky Kaushal</td>\n",
       "      <td>Sarah Jane Dias</td>\n",
       "      <td>Raaghavv Chanana</td>\n",
       "    </tr>\n",
       "    <tr>\n",
       "      <th>5655</th>\n",
       "      <td>Zubeidaa</td>\n",
       "      <td>-2001.0</td>\n",
       "      <td>153 min</td>\n",
       "      <td>Biography, Drama, History</td>\n",
       "      <td>6.2</td>\n",
       "      <td>1,496</td>\n",
       "      <td>Shyam Benegal</td>\n",
       "      <td>Karisma Kapoor</td>\n",
       "      <td>Rekha</td>\n",
       "      <td>Manoj Bajpayee</td>\n",
       "    </tr>\n",
       "    <tr>\n",
       "      <th>5656</th>\n",
       "      <td>Zulm Ki Zanjeer</td>\n",
       "      <td>-1989.0</td>\n",
       "      <td>125 min</td>\n",
       "      <td>Action, Crime, Drama</td>\n",
       "      <td>5.8</td>\n",
       "      <td>44</td>\n",
       "      <td>S.P. Muthuraman</td>\n",
       "      <td>Chiranjeevi</td>\n",
       "      <td>Jayamalini</td>\n",
       "      <td>Rajinikanth</td>\n",
       "    </tr>\n",
       "    <tr>\n",
       "      <th>5657</th>\n",
       "      <td>Zulmi</td>\n",
       "      <td>-1999.0</td>\n",
       "      <td>129 min</td>\n",
       "      <td>Action, Drama</td>\n",
       "      <td>4.5</td>\n",
       "      <td>655</td>\n",
       "      <td>Kuku Kohli</td>\n",
       "      <td>Akshay Kumar</td>\n",
       "      <td>Twinkle Khanna</td>\n",
       "      <td>Aruna Irani</td>\n",
       "    </tr>\n",
       "    <tr>\n",
       "      <th>5658</th>\n",
       "      <td>Zulm-O-Sitam</td>\n",
       "      <td>-1998.0</td>\n",
       "      <td>130 min</td>\n",
       "      <td>Action, Drama</td>\n",
       "      <td>6.2</td>\n",
       "      <td>20</td>\n",
       "      <td>K.C. Bokadia</td>\n",
       "      <td>Dharmendra</td>\n",
       "      <td>Jaya Prada</td>\n",
       "      <td>Arjun Sarja</td>\n",
       "    </tr>\n",
       "  </tbody>\n",
       "</table>\n",
       "<p>5659 rows × 10 columns</p>\n",
       "</div>"
      ],
      "text/plain": [
       "                                    Name    Year Duration  \\\n",
       "0     #Gadhvi (He thought he was Gandhi) -2019.0  109 min   \n",
       "1                                #Yaaram -2019.0  110 min   \n",
       "2                   ...Aur Pyaar Ho Gaya -1997.0  147 min   \n",
       "3                              ...Yahaan -2005.0  142 min   \n",
       "4                     ?: A Question Mark -2012.0   82 min   \n",
       "...                                  ...     ...      ...   \n",
       "5654                              Zubaan -2015.0  115 min   \n",
       "5655                            Zubeidaa -2001.0  153 min   \n",
       "5656                     Zulm Ki Zanjeer -1989.0  125 min   \n",
       "5657                               Zulmi -1999.0  129 min   \n",
       "5658                        Zulm-O-Sitam -1998.0  130 min   \n",
       "\n",
       "                          Genre  Rating  Votes         Director  \\\n",
       "0                         Drama     7.0      8    Gaurav Bakshi   \n",
       "1               Comedy, Romance     4.4     35       Ovais Khan   \n",
       "2        Comedy, Drama, Musical     4.7    827     Rahul Rawail   \n",
       "3           Drama, Romance, War     7.4  1,086   Shoojit Sircar   \n",
       "4     Horror, Mystery, Thriller     5.6    326    Allyson Patel   \n",
       "...                         ...     ...    ...              ...   \n",
       "5654                      Drama     6.1    408      Mozez Singh   \n",
       "5655  Biography, Drama, History     6.2  1,496    Shyam Benegal   \n",
       "5656       Action, Crime, Drama     5.8     44  S.P. Muthuraman   \n",
       "5657              Action, Drama     4.5    655       Kuku Kohli   \n",
       "5658              Action, Drama     6.2     20     K.C. Bokadia   \n",
       "\n",
       "              Actor 1                 Actor 2           Actor 3  \n",
       "0        Rasika Dugal          Vivek Ghamande     Arvind Jangid  \n",
       "1             Prateik              Ishita Raj   Siddhant Kapoor  \n",
       "2          Bobby Deol  Aishwarya Rai Bachchan     Shammi Kapoor  \n",
       "3     Jimmy Sheirgill          Minissha Lamba    Yashpal Sharma  \n",
       "4           Yash Dave          Muntazir Ahmad      Kiran Bhatia  \n",
       "...               ...                     ...               ...  \n",
       "5654    Vicky Kaushal         Sarah Jane Dias  Raaghavv Chanana  \n",
       "5655   Karisma Kapoor                   Rekha    Manoj Bajpayee  \n",
       "5656      Chiranjeevi              Jayamalini       Rajinikanth  \n",
       "5657     Akshay Kumar          Twinkle Khanna       Aruna Irani  \n",
       "5658       Dharmendra              Jaya Prada       Arjun Sarja  \n",
       "\n",
       "[5659 rows x 10 columns]"
      ]
     },
     "execution_count": 3,
     "metadata": {},
     "output_type": "execute_result"
    }
   ],
   "source": [
    "rating"
   ]
  },
  {
   "cell_type": "code",
   "execution_count": 4,
   "id": "37f6a108",
   "metadata": {
    "scrolled": true
   },
   "outputs": [
    {
     "name": "stdout",
     "output_type": "stream",
     "text": [
      "<class 'pandas.core.frame.DataFrame'>\n",
      "RangeIndex: 5659 entries, 0 to 5658\n",
      "Data columns (total 10 columns):\n",
      " #   Column    Non-Null Count  Dtype  \n",
      "---  ------    --------------  -----  \n",
      " 0   Name      5659 non-null   object \n",
      " 1   Year      5659 non-null   float64\n",
      " 2   Duration  5659 non-null   object \n",
      " 3   Genre     5659 non-null   object \n",
      " 4   Rating    5659 non-null   float64\n",
      " 5   Votes     5659 non-null   object \n",
      " 6   Director  5659 non-null   object \n",
      " 7   Actor 1   5659 non-null   object \n",
      " 8   Actor 2   5659 non-null   object \n",
      " 9   Actor 3   5659 non-null   object \n",
      "dtypes: float64(2), object(8)\n",
      "memory usage: 442.2+ KB\n"
     ]
    }
   ],
   "source": [
    "rating.info()"
   ]
  },
  {
   "cell_type": "code",
   "execution_count": 5,
   "id": "a1f86513",
   "metadata": {},
   "outputs": [
    {
     "data": {
      "text/plain": [
       "Name        0\n",
       "Year        0\n",
       "Duration    0\n",
       "Genre       0\n",
       "Rating      0\n",
       "Votes       0\n",
       "Director    0\n",
       "Actor 1     0\n",
       "Actor 2     0\n",
       "Actor 3     0\n",
       "dtype: int64"
      ]
     },
     "execution_count": 5,
     "metadata": {},
     "output_type": "execute_result"
    }
   ],
   "source": [
    "rating.isnull().sum()"
   ]
  },
  {
   "cell_type": "code",
   "execution_count": 6,
   "id": "de98e143",
   "metadata": {},
   "outputs": [],
   "source": [
    "#To drop columns with Nan\n",
    "#rating = rating.dropna()"
   ]
  },
  {
   "cell_type": "code",
   "execution_count": 7,
   "id": "c9e85f4e",
   "metadata": {},
   "outputs": [
    {
     "data": {
      "text/html": [
       "<div>\n",
       "<style scoped>\n",
       "    .dataframe tbody tr th:only-of-type {\n",
       "        vertical-align: middle;\n",
       "    }\n",
       "\n",
       "    .dataframe tbody tr th {\n",
       "        vertical-align: top;\n",
       "    }\n",
       "\n",
       "    .dataframe thead th {\n",
       "        text-align: right;\n",
       "    }\n",
       "</style>\n",
       "<table border=\"1\" class=\"dataframe\">\n",
       "  <thead>\n",
       "    <tr style=\"text-align: right;\">\n",
       "      <th></th>\n",
       "      <th>Name</th>\n",
       "      <th>Year</th>\n",
       "      <th>Duration</th>\n",
       "      <th>Genre</th>\n",
       "      <th>Rating</th>\n",
       "      <th>Votes</th>\n",
       "      <th>Director</th>\n",
       "      <th>Actor 1</th>\n",
       "      <th>Actor 2</th>\n",
       "      <th>Actor 3</th>\n",
       "    </tr>\n",
       "  </thead>\n",
       "  <tbody>\n",
       "    <tr>\n",
       "      <th>0</th>\n",
       "      <td>#Gadhvi (He thought he was Gandhi)</td>\n",
       "      <td>-2019.0</td>\n",
       "      <td>109 min</td>\n",
       "      <td>Drama</td>\n",
       "      <td>7.0</td>\n",
       "      <td>8</td>\n",
       "      <td>Gaurav Bakshi</td>\n",
       "      <td>Rasika Dugal</td>\n",
       "      <td>Vivek Ghamande</td>\n",
       "      <td>Arvind Jangid</td>\n",
       "    </tr>\n",
       "    <tr>\n",
       "      <th>1</th>\n",
       "      <td>#Yaaram</td>\n",
       "      <td>-2019.0</td>\n",
       "      <td>110 min</td>\n",
       "      <td>Comedy, Romance</td>\n",
       "      <td>4.4</td>\n",
       "      <td>35</td>\n",
       "      <td>Ovais Khan</td>\n",
       "      <td>Prateik</td>\n",
       "      <td>Ishita Raj</td>\n",
       "      <td>Siddhant Kapoor</td>\n",
       "    </tr>\n",
       "    <tr>\n",
       "      <th>2</th>\n",
       "      <td>...Aur Pyaar Ho Gaya</td>\n",
       "      <td>-1997.0</td>\n",
       "      <td>147 min</td>\n",
       "      <td>Comedy, Drama, Musical</td>\n",
       "      <td>4.7</td>\n",
       "      <td>827</td>\n",
       "      <td>Rahul Rawail</td>\n",
       "      <td>Bobby Deol</td>\n",
       "      <td>Aishwarya Rai Bachchan</td>\n",
       "      <td>Shammi Kapoor</td>\n",
       "    </tr>\n",
       "    <tr>\n",
       "      <th>3</th>\n",
       "      <td>...Yahaan</td>\n",
       "      <td>-2005.0</td>\n",
       "      <td>142 min</td>\n",
       "      <td>Drama, Romance, War</td>\n",
       "      <td>7.4</td>\n",
       "      <td>1,086</td>\n",
       "      <td>Shoojit Sircar</td>\n",
       "      <td>Jimmy Sheirgill</td>\n",
       "      <td>Minissha Lamba</td>\n",
       "      <td>Yashpal Sharma</td>\n",
       "    </tr>\n",
       "    <tr>\n",
       "      <th>4</th>\n",
       "      <td>?: A Question Mark</td>\n",
       "      <td>-2012.0</td>\n",
       "      <td>82 min</td>\n",
       "      <td>Horror, Mystery, Thriller</td>\n",
       "      <td>5.6</td>\n",
       "      <td>326</td>\n",
       "      <td>Allyson Patel</td>\n",
       "      <td>Yash Dave</td>\n",
       "      <td>Muntazir Ahmad</td>\n",
       "      <td>Kiran Bhatia</td>\n",
       "    </tr>\n",
       "    <tr>\n",
       "      <th>...</th>\n",
       "      <td>...</td>\n",
       "      <td>...</td>\n",
       "      <td>...</td>\n",
       "      <td>...</td>\n",
       "      <td>...</td>\n",
       "      <td>...</td>\n",
       "      <td>...</td>\n",
       "      <td>...</td>\n",
       "      <td>...</td>\n",
       "      <td>...</td>\n",
       "    </tr>\n",
       "    <tr>\n",
       "      <th>5654</th>\n",
       "      <td>Zubaan</td>\n",
       "      <td>-2015.0</td>\n",
       "      <td>115 min</td>\n",
       "      <td>Drama</td>\n",
       "      <td>6.1</td>\n",
       "      <td>408</td>\n",
       "      <td>Mozez Singh</td>\n",
       "      <td>Vicky Kaushal</td>\n",
       "      <td>Sarah Jane Dias</td>\n",
       "      <td>Raaghavv Chanana</td>\n",
       "    </tr>\n",
       "    <tr>\n",
       "      <th>5655</th>\n",
       "      <td>Zubeidaa</td>\n",
       "      <td>-2001.0</td>\n",
       "      <td>153 min</td>\n",
       "      <td>Biography, Drama, History</td>\n",
       "      <td>6.2</td>\n",
       "      <td>1,496</td>\n",
       "      <td>Shyam Benegal</td>\n",
       "      <td>Karisma Kapoor</td>\n",
       "      <td>Rekha</td>\n",
       "      <td>Manoj Bajpayee</td>\n",
       "    </tr>\n",
       "    <tr>\n",
       "      <th>5656</th>\n",
       "      <td>Zulm Ki Zanjeer</td>\n",
       "      <td>-1989.0</td>\n",
       "      <td>125 min</td>\n",
       "      <td>Action, Crime, Drama</td>\n",
       "      <td>5.8</td>\n",
       "      <td>44</td>\n",
       "      <td>S.P. Muthuraman</td>\n",
       "      <td>Chiranjeevi</td>\n",
       "      <td>Jayamalini</td>\n",
       "      <td>Rajinikanth</td>\n",
       "    </tr>\n",
       "    <tr>\n",
       "      <th>5657</th>\n",
       "      <td>Zulmi</td>\n",
       "      <td>-1999.0</td>\n",
       "      <td>129 min</td>\n",
       "      <td>Action, Drama</td>\n",
       "      <td>4.5</td>\n",
       "      <td>655</td>\n",
       "      <td>Kuku Kohli</td>\n",
       "      <td>Akshay Kumar</td>\n",
       "      <td>Twinkle Khanna</td>\n",
       "      <td>Aruna Irani</td>\n",
       "    </tr>\n",
       "    <tr>\n",
       "      <th>5658</th>\n",
       "      <td>Zulm-O-Sitam</td>\n",
       "      <td>-1998.0</td>\n",
       "      <td>130 min</td>\n",
       "      <td>Action, Drama</td>\n",
       "      <td>6.2</td>\n",
       "      <td>20</td>\n",
       "      <td>K.C. Bokadia</td>\n",
       "      <td>Dharmendra</td>\n",
       "      <td>Jaya Prada</td>\n",
       "      <td>Arjun Sarja</td>\n",
       "    </tr>\n",
       "  </tbody>\n",
       "</table>\n",
       "<p>5659 rows × 10 columns</p>\n",
       "</div>"
      ],
      "text/plain": [
       "                                    Name    Year Duration  \\\n",
       "0     #Gadhvi (He thought he was Gandhi) -2019.0  109 min   \n",
       "1                                #Yaaram -2019.0  110 min   \n",
       "2                   ...Aur Pyaar Ho Gaya -1997.0  147 min   \n",
       "3                              ...Yahaan -2005.0  142 min   \n",
       "4                     ?: A Question Mark -2012.0   82 min   \n",
       "...                                  ...     ...      ...   \n",
       "5654                              Zubaan -2015.0  115 min   \n",
       "5655                            Zubeidaa -2001.0  153 min   \n",
       "5656                     Zulm Ki Zanjeer -1989.0  125 min   \n",
       "5657                               Zulmi -1999.0  129 min   \n",
       "5658                        Zulm-O-Sitam -1998.0  130 min   \n",
       "\n",
       "                          Genre  Rating  Votes         Director  \\\n",
       "0                         Drama     7.0      8    Gaurav Bakshi   \n",
       "1               Comedy, Romance     4.4     35       Ovais Khan   \n",
       "2        Comedy, Drama, Musical     4.7    827     Rahul Rawail   \n",
       "3           Drama, Romance, War     7.4  1,086   Shoojit Sircar   \n",
       "4     Horror, Mystery, Thriller     5.6    326    Allyson Patel   \n",
       "...                         ...     ...    ...              ...   \n",
       "5654                      Drama     6.1    408      Mozez Singh   \n",
       "5655  Biography, Drama, History     6.2  1,496    Shyam Benegal   \n",
       "5656       Action, Crime, Drama     5.8     44  S.P. Muthuraman   \n",
       "5657              Action, Drama     4.5    655       Kuku Kohli   \n",
       "5658              Action, Drama     6.2     20     K.C. Bokadia   \n",
       "\n",
       "              Actor 1                 Actor 2           Actor 3  \n",
       "0        Rasika Dugal          Vivek Ghamande     Arvind Jangid  \n",
       "1             Prateik              Ishita Raj   Siddhant Kapoor  \n",
       "2          Bobby Deol  Aishwarya Rai Bachchan     Shammi Kapoor  \n",
       "3     Jimmy Sheirgill          Minissha Lamba    Yashpal Sharma  \n",
       "4           Yash Dave          Muntazir Ahmad      Kiran Bhatia  \n",
       "...               ...                     ...               ...  \n",
       "5654    Vicky Kaushal         Sarah Jane Dias  Raaghavv Chanana  \n",
       "5655   Karisma Kapoor                   Rekha    Manoj Bajpayee  \n",
       "5656      Chiranjeevi              Jayamalini       Rajinikanth  \n",
       "5657     Akshay Kumar          Twinkle Khanna       Aruna Irani  \n",
       "5658       Dharmendra              Jaya Prada       Arjun Sarja  \n",
       "\n",
       "[5659 rows x 10 columns]"
      ]
     },
     "execution_count": 7,
     "metadata": {},
     "output_type": "execute_result"
    }
   ],
   "source": [
    "rating"
   ]
  },
  {
   "cell_type": "code",
   "execution_count": 8,
   "id": "266ba26a",
   "metadata": {},
   "outputs": [
    {
     "data": {
      "text/plain": [
       "Name        0\n",
       "Year        0\n",
       "Duration    0\n",
       "Genre       0\n",
       "Rating      0\n",
       "Votes       0\n",
       "Director    0\n",
       "Actor 1     0\n",
       "Actor 2     0\n",
       "Actor 3     0\n",
       "dtype: int64"
      ]
     },
     "execution_count": 8,
     "metadata": {},
     "output_type": "execute_result"
    }
   ],
   "source": [
    "rating.isnull().sum()"
   ]
  },
  {
   "cell_type": "code",
   "execution_count": 9,
   "id": "afc9529c",
   "metadata": {},
   "outputs": [
    {
     "name": "stdout",
     "output_type": "stream",
     "text": [
      "<class 'pandas.core.frame.DataFrame'>\n",
      "RangeIndex: 5659 entries, 0 to 5658\n",
      "Data columns (total 10 columns):\n",
      " #   Column    Non-Null Count  Dtype  \n",
      "---  ------    --------------  -----  \n",
      " 0   Name      5659 non-null   object \n",
      " 1   Year      5659 non-null   float64\n",
      " 2   Duration  5659 non-null   object \n",
      " 3   Genre     5659 non-null   object \n",
      " 4   Rating    5659 non-null   float64\n",
      " 5   Votes     5659 non-null   object \n",
      " 6   Director  5659 non-null   object \n",
      " 7   Actor 1   5659 non-null   object \n",
      " 8   Actor 2   5659 non-null   object \n",
      " 9   Actor 3   5659 non-null   object \n",
      "dtypes: float64(2), object(8)\n",
      "memory usage: 442.2+ KB\n"
     ]
    }
   ],
   "source": [
    "rating.info()"
   ]
  },
  {
   "cell_type": "code",
   "execution_count": 10,
   "id": "55aabe11",
   "metadata": {},
   "outputs": [],
   "source": [
    "rating = rating.drop(columns=['Votes','Duration','Year'], axis = 1)"
   ]
  },
  {
   "cell_type": "code",
   "execution_count": 11,
   "id": "be053764",
   "metadata": {},
   "outputs": [
    {
     "name": "stdout",
     "output_type": "stream",
     "text": [
      "<class 'pandas.core.frame.DataFrame'>\n",
      "RangeIndex: 5659 entries, 0 to 5658\n",
      "Data columns (total 7 columns):\n",
      " #   Column    Non-Null Count  Dtype  \n",
      "---  ------    --------------  -----  \n",
      " 0   Name      5659 non-null   object \n",
      " 1   Genre     5659 non-null   object \n",
      " 2   Rating    5659 non-null   float64\n",
      " 3   Director  5659 non-null   object \n",
      " 4   Actor 1   5659 non-null   object \n",
      " 5   Actor 2   5659 non-null   object \n",
      " 6   Actor 3   5659 non-null   object \n",
      "dtypes: float64(1), object(6)\n",
      "memory usage: 309.6+ KB\n"
     ]
    }
   ],
   "source": [
    "rating.info()"
   ]
  },
  {
   "cell_type": "code",
   "execution_count": 12,
   "id": "b445cac7",
   "metadata": {},
   "outputs": [
    {
     "name": "stdout",
     "output_type": "stream",
     "text": [
      "[   0    1    2 ... 5382 5384 5383]\n"
     ]
    }
   ],
   "source": [
    "from sklearn.preprocessing import LabelEncoder\n",
    "\n",
    "le = LabelEncoder()\n",
    "rating['Name'] = le.fit_transform(rating['Name'])\n",
    "\n",
    "# Create a copy explicitly\n",
    "rating_copy = rating.copy()\n",
    "\n",
    "rating_copy['Name'] = le.fit_transform(rating_copy['Name'])\n",
    "rating = rating_copy\n",
    "\n",
    "unique_label = rating['Name'].unique()\n",
    "print(unique_label)\n"
   ]
  },
  {
   "cell_type": "code",
   "execution_count": 13,
   "id": "34baf53d",
   "metadata": {},
   "outputs": [],
   "source": [
    "# Save the LabelEncoder to a pickle file\n",
    "with open('label_encoder_name.pkl', 'wb') as le_file:\n",
    "    pickle.dump(le, le_file)"
   ]
  },
  {
   "cell_type": "code",
   "execution_count": 14,
   "id": "0a53b355",
   "metadata": {},
   "outputs": [
    {
     "name": "stdout",
     "output_type": "stream",
     "text": [
      "[229 184 157 289 320  37 316 323 159 151 199 325 171 268  77   0 319 318\n",
      " 269  42  50 370 142 105  75 211 260 369 133 321 193  91 183 284 214 324\n",
      " 283 246  17   7 215 267  16  58  97 353 145 341 292   3 354  28 342  76\n",
      "  47 348 304 288 239  19  38 277  71  27  39 245  40 262 197 367 152 210\n",
      "  18 201 164 359 248 360 343 300 336 272 280  89  49 196 270  66 365 271\n",
      " 274 198  70  34  14 186  46  25 131  20 244  83   6  45 109 209  87 237\n",
      " 256 330  24 261  32 102  41  93 103   5   1  98 295 346 258 338 228 349\n",
      " 314 334 345 136 127 313 192 134 290 180 291 241  80 187  33  35 112  48\n",
      " 224 176 130 107 137  74  22 200 350  10 206  78  86 172 303 231 294 162\n",
      " 110 332  43 129  44  92 286 328 375 178 372 232  90 301 202 218  60 121\n",
      " 135  94 296 156 173 153 225  29 276 163  79 242  52 190  11 143 123 149\n",
      " 161 220 339 250 279 113 257 144 249 170   8 166 117  88 265  65 185 305\n",
      "  63 352 140 230 273  15   4  96  99 299 310 124  12 358 115 326 194 297\n",
      " 148 181  95 139 335 275 150  61 100 264 221 189 119 251 213 177 266 147\n",
      " 240 141 315 263 118 236 298 340 327 331 329  67 357  56 195 155 205 188\n",
      " 355 344  72 165 317 374 160 217 168  36  62 191 252 247 108 356 175 167\n",
      "  51 158  73 128  69  64 243 207 366 238 281 132  54 116 182 293 287 337\n",
      " 253  13 233 278  21 226 254  57 111 174  55 309 101 259  82 126  84 285\n",
      " 302 234 146 138  23 364 255 371 312 311  68  85 307 203   2  53 373 333\n",
      " 222  59 235 227 104 216 106 347   9  31 368 223 306 122  30 179 361 212\n",
      " 125 362 154  81 120 282 204 308 169 114 208  26 351 322 363 219]\n"
     ]
    }
   ],
   "source": [
    "le = LabelEncoder()\n",
    "rating['Genre'] = le.fit_transform(rating['Genre'])\n",
    "unique_label = rating['Genre'].unique()\n",
    "print(unique_label)"
   ]
  },
  {
   "cell_type": "code",
   "execution_count": 15,
   "id": "ccc43a87",
   "metadata": {},
   "outputs": [],
   "source": [
    "# Save the LabelEncoder to a pickle file\n",
    "with open('label_encoder_genre.pkl', 'wb') as le_file:\n",
    "    pickle.dump(le, le_file)"
   ]
  },
  {
   "cell_type": "code",
   "execution_count": 16,
   "id": "bbb34268",
   "metadata": {},
   "outputs": [
    {
     "name": "stdout",
     "output_type": "stream",
     "text": [
      "[ 629 1335 1530 ... 2244 2155 1223]\n"
     ]
    }
   ],
   "source": [
    "le = LabelEncoder()\n",
    "rating['Director'] = le.fit_transform(rating['Director'])\n",
    "unique_label = rating['Director'].unique()\n",
    "print(unique_label)"
   ]
  },
  {
   "cell_type": "code",
   "execution_count": 17,
   "id": "3ab5f6a6",
   "metadata": {},
   "outputs": [],
   "source": [
    "# Save the LabelEncoder to a pickle file\n",
    "with open('label_encoder_director.pkl', 'wb') as le_file:\n",
    "    pickle.dump(le, le_file)"
   ]
  },
  {
   "cell_type": "code",
   "execution_count": 18,
   "id": "2ad829df",
   "metadata": {},
   "outputs": [
    {
     "name": "stdout",
     "output_type": "stream",
     "text": [
      "[1352 1198  378 ... 1443 1732  429]\n"
     ]
    }
   ],
   "source": [
    "le = LabelEncoder()\n",
    "rating['Actor 1'] = le.fit_transform(rating['Actor 1'])\n",
    "unique_label = rating['Actor 1'].unique()\n",
    "print(unique_label)"
   ]
  },
  {
   "cell_type": "code",
   "execution_count": 19,
   "id": "232d4eb9",
   "metadata": {},
   "outputs": [],
   "source": [
    "# Save the LabelEncoder to a pickle file\n",
    "with open('label_encoder_actor 1.pkl', 'wb') as le_file:\n",
    "    pickle.dump(le, le_file)"
   ]
  },
  {
   "cell_type": "code",
   "execution_count": 20,
   "id": "e2bdf3b6",
   "metadata": {},
   "outputs": [
    {
     "name": "stdout",
     "output_type": "stream",
     "text": [
      "[2272  719   75 ... 1430 1801  754]\n"
     ]
    }
   ],
   "source": [
    "le = LabelEncoder()\n",
    "rating['Actor 2'] = le.fit_transform(rating['Actor 2'])\n",
    "unique_label = rating['Actor 2'].unique()\n",
    "print(unique_label)"
   ]
  },
  {
   "cell_type": "code",
   "execution_count": 21,
   "id": "6a732ccb",
   "metadata": {},
   "outputs": [],
   "source": [
    "# Save the LabelEncoder to a pickle file\n",
    "with open('label_encoder_actor 2.pkl', 'wb') as le_file:\n",
    "    pickle.dump(le, le_file)"
   ]
  },
  {
   "cell_type": "code",
   "execution_count": 22,
   "id": "b68a42b1",
   "metadata": {},
   "outputs": [
    {
     "name": "stdout",
     "output_type": "stream",
     "text": [
      "[ 319 2148 2045 ... 1592 1681 2069]\n"
     ]
    }
   ],
   "source": [
    "le = LabelEncoder()\n",
    "rating['Actor 3'] = le.fit_transform(rating['Actor 3'])\n",
    "unique_label = rating['Actor 3'].unique()\n",
    "print(unique_label)"
   ]
  },
  {
   "cell_type": "code",
   "execution_count": 23,
   "id": "8209f0f6",
   "metadata": {},
   "outputs": [],
   "source": [
    "# Save the LabelEncoder to a pickle file\n",
    "with open('label_encoder_actor 3.pkl', 'wb') as le_file:\n",
    "    pickle.dump(le, le_file)"
   ]
  },
  {
   "cell_type": "code",
   "execution_count": 43,
   "id": "1def311e",
   "metadata": {},
   "outputs": [],
   "source": [
    "y = rating[['Rating']]\n",
    "X = rating.drop(['Rating'], axis=1)"
   ]
  },
  {
   "cell_type": "code",
   "execution_count": 44,
   "id": "44cf3ecf",
   "metadata": {},
   "outputs": [
    {
     "data": {
      "text/html": [
       "<div>\n",
       "<style scoped>\n",
       "    .dataframe tbody tr th:only-of-type {\n",
       "        vertical-align: middle;\n",
       "    }\n",
       "\n",
       "    .dataframe tbody tr th {\n",
       "        vertical-align: top;\n",
       "    }\n",
       "\n",
       "    .dataframe thead th {\n",
       "        text-align: right;\n",
       "    }\n",
       "</style>\n",
       "<table border=\"1\" class=\"dataframe\">\n",
       "  <thead>\n",
       "    <tr style=\"text-align: right;\">\n",
       "      <th></th>\n",
       "      <th>Name</th>\n",
       "      <th>Genre</th>\n",
       "      <th>Director</th>\n",
       "      <th>Actor 1</th>\n",
       "      <th>Actor 2</th>\n",
       "      <th>Actor 3</th>\n",
       "    </tr>\n",
       "  </thead>\n",
       "  <tbody>\n",
       "    <tr>\n",
       "      <th>0</th>\n",
       "      <td>0</td>\n",
       "      <td>229</td>\n",
       "      <td>629</td>\n",
       "      <td>1352</td>\n",
       "      <td>2272</td>\n",
       "      <td>319</td>\n",
       "    </tr>\n",
       "    <tr>\n",
       "      <th>1</th>\n",
       "      <td>1</td>\n",
       "      <td>184</td>\n",
       "      <td>1335</td>\n",
       "      <td>1198</td>\n",
       "      <td>719</td>\n",
       "      <td>2148</td>\n",
       "    </tr>\n",
       "    <tr>\n",
       "      <th>2</th>\n",
       "      <td>2</td>\n",
       "      <td>157</td>\n",
       "      <td>1530</td>\n",
       "      <td>378</td>\n",
       "      <td>75</td>\n",
       "      <td>2045</td>\n",
       "    </tr>\n",
       "    <tr>\n",
       "      <th>3</th>\n",
       "      <td>3</td>\n",
       "      <td>289</td>\n",
       "      <td>2044</td>\n",
       "      <td>692</td>\n",
       "      <td>1112</td>\n",
       "      <td>2524</td>\n",
       "    </tr>\n",
       "    <tr>\n",
       "      <th>4</th>\n",
       "      <td>75</td>\n",
       "      <td>320</td>\n",
       "      <td>135</td>\n",
       "      <td>1934</td>\n",
       "      <td>1175</td>\n",
       "      <td>1013</td>\n",
       "    </tr>\n",
       "    <tr>\n",
       "      <th>...</th>\n",
       "      <td>...</td>\n",
       "      <td>...</td>\n",
       "      <td>...</td>\n",
       "      <td>...</td>\n",
       "      <td>...</td>\n",
       "      <td>...</td>\n",
       "    </tr>\n",
       "    <tr>\n",
       "      <th>5654</th>\n",
       "      <td>5380</td>\n",
       "      <td>229</td>\n",
       "      <td>1223</td>\n",
       "      <td>1861</td>\n",
       "      <td>1801</td>\n",
       "      <td>1615</td>\n",
       "    </tr>\n",
       "    <tr>\n",
       "      <th>5655</th>\n",
       "      <td>5381</td>\n",
       "      <td>133</td>\n",
       "      <td>2059</td>\n",
       "      <td>763</td>\n",
       "      <td>1619</td>\n",
       "      <td>1184</td>\n",
       "    </tr>\n",
       "    <tr>\n",
       "      <th>5656</th>\n",
       "      <td>5382</td>\n",
       "      <td>28</td>\n",
       "      <td>1793</td>\n",
       "      <td>406</td>\n",
       "      <td>754</td>\n",
       "      <td>1685</td>\n",
       "    </tr>\n",
       "    <tr>\n",
       "      <th>5657</th>\n",
       "      <td>5384</td>\n",
       "      <td>38</td>\n",
       "      <td>1025</td>\n",
       "      <td>112</td>\n",
       "      <td>2164</td>\n",
       "      <td>314</td>\n",
       "    </tr>\n",
       "    <tr>\n",
       "      <th>5658</th>\n",
       "      <td>5383</td>\n",
       "      <td>38</td>\n",
       "      <td>895</td>\n",
       "      <td>468</td>\n",
       "      <td>753</td>\n",
       "      <td>303</td>\n",
       "    </tr>\n",
       "  </tbody>\n",
       "</table>\n",
       "<p>5659 rows × 6 columns</p>\n",
       "</div>"
      ],
      "text/plain": [
       "      Name  Genre  Director  Actor 1  Actor 2  Actor 3\n",
       "0        0    229       629     1352     2272      319\n",
       "1        1    184      1335     1198      719     2148\n",
       "2        2    157      1530      378       75     2045\n",
       "3        3    289      2044      692     1112     2524\n",
       "4       75    320       135     1934     1175     1013\n",
       "...    ...    ...       ...      ...      ...      ...\n",
       "5654  5380    229      1223     1861     1801     1615\n",
       "5655  5381    133      2059      763     1619     1184\n",
       "5656  5382     28      1793      406      754     1685\n",
       "5657  5384     38      1025      112     2164      314\n",
       "5658  5383     38       895      468      753      303\n",
       "\n",
       "[5659 rows x 6 columns]"
      ]
     },
     "execution_count": 44,
     "metadata": {},
     "output_type": "execute_result"
    }
   ],
   "source": [
    "X"
   ]
  },
  {
   "cell_type": "code",
   "execution_count": 26,
   "id": "71f0f2c7",
   "metadata": {},
   "outputs": [
    {
     "data": {
      "text/html": [
       "<div>\n",
       "<style scoped>\n",
       "    .dataframe tbody tr th:only-of-type {\n",
       "        vertical-align: middle;\n",
       "    }\n",
       "\n",
       "    .dataframe tbody tr th {\n",
       "        vertical-align: top;\n",
       "    }\n",
       "\n",
       "    .dataframe thead th {\n",
       "        text-align: right;\n",
       "    }\n",
       "</style>\n",
       "<table border=\"1\" class=\"dataframe\">\n",
       "  <thead>\n",
       "    <tr style=\"text-align: right;\">\n",
       "      <th></th>\n",
       "      <th>Rating</th>\n",
       "    </tr>\n",
       "  </thead>\n",
       "  <tbody>\n",
       "    <tr>\n",
       "      <th>0</th>\n",
       "      <td>7.0</td>\n",
       "    </tr>\n",
       "    <tr>\n",
       "      <th>1</th>\n",
       "      <td>4.4</td>\n",
       "    </tr>\n",
       "    <tr>\n",
       "      <th>2</th>\n",
       "      <td>4.7</td>\n",
       "    </tr>\n",
       "    <tr>\n",
       "      <th>3</th>\n",
       "      <td>7.4</td>\n",
       "    </tr>\n",
       "    <tr>\n",
       "      <th>4</th>\n",
       "      <td>5.6</td>\n",
       "    </tr>\n",
       "    <tr>\n",
       "      <th>...</th>\n",
       "      <td>...</td>\n",
       "    </tr>\n",
       "    <tr>\n",
       "      <th>5654</th>\n",
       "      <td>6.1</td>\n",
       "    </tr>\n",
       "    <tr>\n",
       "      <th>5655</th>\n",
       "      <td>6.2</td>\n",
       "    </tr>\n",
       "    <tr>\n",
       "      <th>5656</th>\n",
       "      <td>5.8</td>\n",
       "    </tr>\n",
       "    <tr>\n",
       "      <th>5657</th>\n",
       "      <td>4.5</td>\n",
       "    </tr>\n",
       "    <tr>\n",
       "      <th>5658</th>\n",
       "      <td>6.2</td>\n",
       "    </tr>\n",
       "  </tbody>\n",
       "</table>\n",
       "<p>5659 rows × 1 columns</p>\n",
       "</div>"
      ],
      "text/plain": [
       "      Rating\n",
       "0        7.0\n",
       "1        4.4\n",
       "2        4.7\n",
       "3        7.4\n",
       "4        5.6\n",
       "...      ...\n",
       "5654     6.1\n",
       "5655     6.2\n",
       "5656     5.8\n",
       "5657     4.5\n",
       "5658     6.2\n",
       "\n",
       "[5659 rows x 1 columns]"
      ]
     },
     "execution_count": 26,
     "metadata": {},
     "output_type": "execute_result"
    }
   ],
   "source": [
    "y"
   ]
  },
  {
   "cell_type": "code",
   "execution_count": 45,
   "id": "065c294c",
   "metadata": {},
   "outputs": [
    {
     "data": {
      "text/html": [
       "<div>\n",
       "<style scoped>\n",
       "    .dataframe tbody tr th:only-of-type {\n",
       "        vertical-align: middle;\n",
       "    }\n",
       "\n",
       "    .dataframe tbody tr th {\n",
       "        vertical-align: top;\n",
       "    }\n",
       "\n",
       "    .dataframe thead th {\n",
       "        text-align: right;\n",
       "    }\n",
       "</style>\n",
       "<table border=\"1\" class=\"dataframe\">\n",
       "  <thead>\n",
       "    <tr style=\"text-align: right;\">\n",
       "      <th></th>\n",
       "      <th>Name</th>\n",
       "      <th>Genre</th>\n",
       "      <th>Director</th>\n",
       "      <th>Actor 1</th>\n",
       "      <th>Actor 2</th>\n",
       "      <th>Actor 3</th>\n",
       "    </tr>\n",
       "  </thead>\n",
       "  <tbody>\n",
       "    <tr>\n",
       "      <th>2080</th>\n",
       "      <td>1965</td>\n",
       "      <td>28</td>\n",
       "      <td>1705</td>\n",
       "      <td>1499</td>\n",
       "      <td>1619</td>\n",
       "      <td>2242</td>\n",
       "    </tr>\n",
       "    <tr>\n",
       "      <th>3827</th>\n",
       "      <td>3620</td>\n",
       "      <td>159</td>\n",
       "      <td>247</td>\n",
       "      <td>1330</td>\n",
       "      <td>1647</td>\n",
       "      <td>475</td>\n",
       "    </tr>\n",
       "    <tr>\n",
       "      <th>92</th>\n",
       "      <td>91</td>\n",
       "      <td>28</td>\n",
       "      <td>1294</td>\n",
       "      <td>220</td>\n",
       "      <td>1216</td>\n",
       "      <td>906</td>\n",
       "    </tr>\n",
       "    <tr>\n",
       "      <th>5171</th>\n",
       "      <td>4916</td>\n",
       "      <td>142</td>\n",
       "      <td>57</td>\n",
       "      <td>112</td>\n",
       "      <td>962</td>\n",
       "      <td>266</td>\n",
       "    </tr>\n",
       "    <tr>\n",
       "      <th>1623</th>\n",
       "      <td>1536</td>\n",
       "      <td>151</td>\n",
       "      <td>466</td>\n",
       "      <td>284</td>\n",
       "      <td>302</td>\n",
       "      <td>2425</td>\n",
       "    </tr>\n",
       "    <tr>\n",
       "      <th>...</th>\n",
       "      <td>...</td>\n",
       "      <td>...</td>\n",
       "      <td>...</td>\n",
       "      <td>...</td>\n",
       "      <td>...</td>\n",
       "      <td>...</td>\n",
       "    </tr>\n",
       "    <tr>\n",
       "      <th>3772</th>\n",
       "      <td>3567</td>\n",
       "      <td>248</td>\n",
       "      <td>1141</td>\n",
       "      <td>525</td>\n",
       "      <td>1388</td>\n",
       "      <td>1113</td>\n",
       "    </tr>\n",
       "    <tr>\n",
       "      <th>5191</th>\n",
       "      <td>4935</td>\n",
       "      <td>282</td>\n",
       "      <td>2103</td>\n",
       "      <td>1761</td>\n",
       "      <td>2268</td>\n",
       "      <td>991</td>\n",
       "    </tr>\n",
       "    <tr>\n",
       "      <th>5226</th>\n",
       "      <td>4969</td>\n",
       "      <td>354</td>\n",
       "      <td>437</td>\n",
       "      <td>1598</td>\n",
       "      <td>2115</td>\n",
       "      <td>57</td>\n",
       "    </tr>\n",
       "    <tr>\n",
       "      <th>5390</th>\n",
       "      <td>5128</td>\n",
       "      <td>142</td>\n",
       "      <td>2002</td>\n",
       "      <td>761</td>\n",
       "      <td>1999</td>\n",
       "      <td>1388</td>\n",
       "    </tr>\n",
       "    <tr>\n",
       "      <th>860</th>\n",
       "      <td>801</td>\n",
       "      <td>316</td>\n",
       "      <td>1491</td>\n",
       "      <td>373</td>\n",
       "      <td>1852</td>\n",
       "      <td>214</td>\n",
       "    </tr>\n",
       "  </tbody>\n",
       "</table>\n",
       "<p>3791 rows × 6 columns</p>\n",
       "</div>"
      ],
      "text/plain": [
       "      Name  Genre  Director  Actor 1  Actor 2  Actor 3\n",
       "2080  1965     28      1705     1499     1619     2242\n",
       "3827  3620    159       247     1330     1647      475\n",
       "92      91     28      1294      220     1216      906\n",
       "5171  4916    142        57      112      962      266\n",
       "1623  1536    151       466      284      302     2425\n",
       "...    ...    ...       ...      ...      ...      ...\n",
       "3772  3567    248      1141      525     1388     1113\n",
       "5191  4935    282      2103     1761     2268      991\n",
       "5226  4969    354       437     1598     2115       57\n",
       "5390  5128    142      2002      761     1999     1388\n",
       "860    801    316      1491      373     1852      214\n",
       "\n",
       "[3791 rows x 6 columns]"
      ]
     },
     "execution_count": 45,
     "metadata": {},
     "output_type": "execute_result"
    }
   ],
   "source": [
    "from sklearn.model_selection import train_test_split\n",
    "X_train, X_test, y_train, y_test = train_test_split(X, y, test_size=0.33, random_state=42)\n",
    "X_train"
   ]
  },
  {
   "cell_type": "code",
   "execution_count": 48,
   "id": "25b9ffb6",
   "metadata": {},
   "outputs": [],
   "source": [
    "threshold = 5.0\n",
    "y_binary = np.where(y > threshold, 1, 0)\n",
    "\n",
    "# Flatten the target variable using ravel()\n",
    "y_binary_flat = y_binary.ravel()\n",
    "\n",
    "# Split the data into training and testing sets\n",
    "X_train, X_test, y_train, y_test = train_test_split(X, y_binary_flat, test_size=0.2, random_state=42)\n"
   ]
  },
  {
   "cell_type": "code",
   "execution_count": 50,
   "id": "fc929c5e",
   "metadata": {},
   "outputs": [
    {
     "data": {
      "text/html": [
       "<style>#sk-container-id-6 {color: black;background-color: white;}#sk-container-id-6 pre{padding: 0;}#sk-container-id-6 div.sk-toggleable {background-color: white;}#sk-container-id-6 label.sk-toggleable__label {cursor: pointer;display: block;width: 100%;margin-bottom: 0;padding: 0.3em;box-sizing: border-box;text-align: center;}#sk-container-id-6 label.sk-toggleable__label-arrow:before {content: \"▸\";float: left;margin-right: 0.25em;color: #696969;}#sk-container-id-6 label.sk-toggleable__label-arrow:hover:before {color: black;}#sk-container-id-6 div.sk-estimator:hover label.sk-toggleable__label-arrow:before {color: black;}#sk-container-id-6 div.sk-toggleable__content {max-height: 0;max-width: 0;overflow: hidden;text-align: left;background-color: #f0f8ff;}#sk-container-id-6 div.sk-toggleable__content pre {margin: 0.2em;color: black;border-radius: 0.25em;background-color: #f0f8ff;}#sk-container-id-6 input.sk-toggleable__control:checked~div.sk-toggleable__content {max-height: 200px;max-width: 100%;overflow: auto;}#sk-container-id-6 input.sk-toggleable__control:checked~label.sk-toggleable__label-arrow:before {content: \"▾\";}#sk-container-id-6 div.sk-estimator input.sk-toggleable__control:checked~label.sk-toggleable__label {background-color: #d4ebff;}#sk-container-id-6 div.sk-label input.sk-toggleable__control:checked~label.sk-toggleable__label {background-color: #d4ebff;}#sk-container-id-6 input.sk-hidden--visually {border: 0;clip: rect(1px 1px 1px 1px);clip: rect(1px, 1px, 1px, 1px);height: 1px;margin: -1px;overflow: hidden;padding: 0;position: absolute;width: 1px;}#sk-container-id-6 div.sk-estimator {font-family: monospace;background-color: #f0f8ff;border: 1px dotted black;border-radius: 0.25em;box-sizing: border-box;margin-bottom: 0.5em;}#sk-container-id-6 div.sk-estimator:hover {background-color: #d4ebff;}#sk-container-id-6 div.sk-parallel-item::after {content: \"\";width: 100%;border-bottom: 1px solid gray;flex-grow: 1;}#sk-container-id-6 div.sk-label:hover label.sk-toggleable__label {background-color: #d4ebff;}#sk-container-id-6 div.sk-serial::before {content: \"\";position: absolute;border-left: 1px solid gray;box-sizing: border-box;top: 0;bottom: 0;left: 50%;z-index: 0;}#sk-container-id-6 div.sk-serial {display: flex;flex-direction: column;align-items: center;background-color: white;padding-right: 0.2em;padding-left: 0.2em;position: relative;}#sk-container-id-6 div.sk-item {position: relative;z-index: 1;}#sk-container-id-6 div.sk-parallel {display: flex;align-items: stretch;justify-content: center;background-color: white;position: relative;}#sk-container-id-6 div.sk-item::before, #sk-container-id-6 div.sk-parallel-item::before {content: \"\";position: absolute;border-left: 1px solid gray;box-sizing: border-box;top: 0;bottom: 0;left: 50%;z-index: -1;}#sk-container-id-6 div.sk-parallel-item {display: flex;flex-direction: column;z-index: 1;position: relative;background-color: white;}#sk-container-id-6 div.sk-parallel-item:first-child::after {align-self: flex-end;width: 50%;}#sk-container-id-6 div.sk-parallel-item:last-child::after {align-self: flex-start;width: 50%;}#sk-container-id-6 div.sk-parallel-item:only-child::after {width: 0;}#sk-container-id-6 div.sk-dashed-wrapped {border: 1px dashed gray;margin: 0 0.4em 0.5em 0.4em;box-sizing: border-box;padding-bottom: 0.4em;background-color: white;}#sk-container-id-6 div.sk-label label {font-family: monospace;font-weight: bold;display: inline-block;line-height: 1.2em;}#sk-container-id-6 div.sk-label-container {text-align: center;}#sk-container-id-6 div.sk-container {/* jupyter's `normalize.less` sets `[hidden] { display: none; }` but bootstrap.min.css set `[hidden] { display: none !important; }` so we also need the `!important` here to be able to override the default hidden behavior on the sphinx rendered scikit-learn.org. See: https://github.com/scikit-learn/scikit-learn/issues/21755 */display: inline-block !important;position: relative;}#sk-container-id-6 div.sk-text-repr-fallback {display: none;}</style><div id=\"sk-container-id-6\" class=\"sk-top-container\"><div class=\"sk-text-repr-fallback\"><pre>LogisticRegression()</pre><b>In a Jupyter environment, please rerun this cell to show the HTML representation or trust the notebook. <br />On GitHub, the HTML representation is unable to render, please try loading this page with nbviewer.org.</b></div><div class=\"sk-container\" hidden><div class=\"sk-item\"><div class=\"sk-estimator sk-toggleable\"><input class=\"sk-toggleable__control sk-hidden--visually\" id=\"sk-estimator-id-6\" type=\"checkbox\" checked><label for=\"sk-estimator-id-6\" class=\"sk-toggleable__label sk-toggleable__label-arrow\">LogisticRegression</label><div class=\"sk-toggleable__content\"><pre>LogisticRegression()</pre></div></div></div></div></div>"
      ],
      "text/plain": [
       "LogisticRegression()"
      ]
     },
     "execution_count": 50,
     "metadata": {},
     "output_type": "execute_result"
    }
   ],
   "source": [
    "from sklearn.linear_model import LogisticRegression\n",
    "logreg = LogisticRegression()\n",
    "logreg.fit(X_train,y_train)"
   ]
  },
  {
   "cell_type": "code",
   "execution_count": 51,
   "id": "380776af",
   "metadata": {},
   "outputs": [
    {
     "data": {
      "text/plain": [
       "array([1, 1, 1, ..., 1, 1, 1])"
      ]
     },
     "execution_count": 51,
     "metadata": {},
     "output_type": "execute_result"
    }
   ],
   "source": [
    "pred = logreg.predict(X_test)\n",
    "pred"
   ]
  },
  {
   "cell_type": "code",
   "execution_count": 52,
   "id": "b07baa51",
   "metadata": {},
   "outputs": [
    {
     "data": {
      "text/plain": [
       "73.67491166077738"
      ]
     },
     "execution_count": 52,
     "metadata": {},
     "output_type": "execute_result"
    }
   ],
   "source": [
    "from sklearn.metrics import accuracy_score,confusion_matrix\n",
    "accuracy = accuracy_score(y_test,pred) * 100\n",
    "accuracy"
   ]
  },
  {
   "cell_type": "code",
   "execution_count": 53,
   "id": "33f3d5a3",
   "metadata": {},
   "outputs": [
    {
     "data": {
      "text/html": [
       "<style>#sk-container-id-7 {color: black;background-color: white;}#sk-container-id-7 pre{padding: 0;}#sk-container-id-7 div.sk-toggleable {background-color: white;}#sk-container-id-7 label.sk-toggleable__label {cursor: pointer;display: block;width: 100%;margin-bottom: 0;padding: 0.3em;box-sizing: border-box;text-align: center;}#sk-container-id-7 label.sk-toggleable__label-arrow:before {content: \"▸\";float: left;margin-right: 0.25em;color: #696969;}#sk-container-id-7 label.sk-toggleable__label-arrow:hover:before {color: black;}#sk-container-id-7 div.sk-estimator:hover label.sk-toggleable__label-arrow:before {color: black;}#sk-container-id-7 div.sk-toggleable__content {max-height: 0;max-width: 0;overflow: hidden;text-align: left;background-color: #f0f8ff;}#sk-container-id-7 div.sk-toggleable__content pre {margin: 0.2em;color: black;border-radius: 0.25em;background-color: #f0f8ff;}#sk-container-id-7 input.sk-toggleable__control:checked~div.sk-toggleable__content {max-height: 200px;max-width: 100%;overflow: auto;}#sk-container-id-7 input.sk-toggleable__control:checked~label.sk-toggleable__label-arrow:before {content: \"▾\";}#sk-container-id-7 div.sk-estimator input.sk-toggleable__control:checked~label.sk-toggleable__label {background-color: #d4ebff;}#sk-container-id-7 div.sk-label input.sk-toggleable__control:checked~label.sk-toggleable__label {background-color: #d4ebff;}#sk-container-id-7 input.sk-hidden--visually {border: 0;clip: rect(1px 1px 1px 1px);clip: rect(1px, 1px, 1px, 1px);height: 1px;margin: -1px;overflow: hidden;padding: 0;position: absolute;width: 1px;}#sk-container-id-7 div.sk-estimator {font-family: monospace;background-color: #f0f8ff;border: 1px dotted black;border-radius: 0.25em;box-sizing: border-box;margin-bottom: 0.5em;}#sk-container-id-7 div.sk-estimator:hover {background-color: #d4ebff;}#sk-container-id-7 div.sk-parallel-item::after {content: \"\";width: 100%;border-bottom: 1px solid gray;flex-grow: 1;}#sk-container-id-7 div.sk-label:hover label.sk-toggleable__label {background-color: #d4ebff;}#sk-container-id-7 div.sk-serial::before {content: \"\";position: absolute;border-left: 1px solid gray;box-sizing: border-box;top: 0;bottom: 0;left: 50%;z-index: 0;}#sk-container-id-7 div.sk-serial {display: flex;flex-direction: column;align-items: center;background-color: white;padding-right: 0.2em;padding-left: 0.2em;position: relative;}#sk-container-id-7 div.sk-item {position: relative;z-index: 1;}#sk-container-id-7 div.sk-parallel {display: flex;align-items: stretch;justify-content: center;background-color: white;position: relative;}#sk-container-id-7 div.sk-item::before, #sk-container-id-7 div.sk-parallel-item::before {content: \"\";position: absolute;border-left: 1px solid gray;box-sizing: border-box;top: 0;bottom: 0;left: 50%;z-index: -1;}#sk-container-id-7 div.sk-parallel-item {display: flex;flex-direction: column;z-index: 1;position: relative;background-color: white;}#sk-container-id-7 div.sk-parallel-item:first-child::after {align-self: flex-end;width: 50%;}#sk-container-id-7 div.sk-parallel-item:last-child::after {align-self: flex-start;width: 50%;}#sk-container-id-7 div.sk-parallel-item:only-child::after {width: 0;}#sk-container-id-7 div.sk-dashed-wrapped {border: 1px dashed gray;margin: 0 0.4em 0.5em 0.4em;box-sizing: border-box;padding-bottom: 0.4em;background-color: white;}#sk-container-id-7 div.sk-label label {font-family: monospace;font-weight: bold;display: inline-block;line-height: 1.2em;}#sk-container-id-7 div.sk-label-container {text-align: center;}#sk-container-id-7 div.sk-container {/* jupyter's `normalize.less` sets `[hidden] { display: none; }` but bootstrap.min.css set `[hidden] { display: none !important; }` so we also need the `!important` here to be able to override the default hidden behavior on the sphinx rendered scikit-learn.org. See: https://github.com/scikit-learn/scikit-learn/issues/21755 */display: inline-block !important;position: relative;}#sk-container-id-7 div.sk-text-repr-fallback {display: none;}</style><div id=\"sk-container-id-7\" class=\"sk-top-container\"><div class=\"sk-text-repr-fallback\"><pre>RandomForestClassifier()</pre><b>In a Jupyter environment, please rerun this cell to show the HTML representation or trust the notebook. <br />On GitHub, the HTML representation is unable to render, please try loading this page with nbviewer.org.</b></div><div class=\"sk-container\" hidden><div class=\"sk-item\"><div class=\"sk-estimator sk-toggleable\"><input class=\"sk-toggleable__control sk-hidden--visually\" id=\"sk-estimator-id-7\" type=\"checkbox\" checked><label for=\"sk-estimator-id-7\" class=\"sk-toggleable__label sk-toggleable__label-arrow\">RandomForestClassifier</label><div class=\"sk-toggleable__content\"><pre>RandomForestClassifier()</pre></div></div></div></div></div>"
      ],
      "text/plain": [
       "RandomForestClassifier()"
      ]
     },
     "execution_count": 53,
     "metadata": {},
     "output_type": "execute_result"
    }
   ],
   "source": [
    "from sklearn.ensemble import RandomForestClassifier\n",
    "\n",
    "rfc = RandomForestClassifier()\n",
    "rfc"
   ]
  },
  {
   "cell_type": "code",
   "execution_count": 54,
   "id": "f3089cd7",
   "metadata": {},
   "outputs": [
    {
     "data": {
      "text/plain": [
       "73.58657243816255"
      ]
     },
     "execution_count": 54,
     "metadata": {},
     "output_type": "execute_result"
    }
   ],
   "source": [
    "rfc.fit(X_train,y_train)\n",
    "pred2 = rfc.predict(X_test)\n",
    "accuracy_score(y_test,pred2) * 100"
   ]
  },
  {
   "cell_type": "code",
   "execution_count": 55,
   "id": "5997440e",
   "metadata": {
    "scrolled": true
   },
   "outputs": [
    {
     "data": {
      "text/html": [
       "<style>#sk-container-id-8 {color: black;background-color: white;}#sk-container-id-8 pre{padding: 0;}#sk-container-id-8 div.sk-toggleable {background-color: white;}#sk-container-id-8 label.sk-toggleable__label {cursor: pointer;display: block;width: 100%;margin-bottom: 0;padding: 0.3em;box-sizing: border-box;text-align: center;}#sk-container-id-8 label.sk-toggleable__label-arrow:before {content: \"▸\";float: left;margin-right: 0.25em;color: #696969;}#sk-container-id-8 label.sk-toggleable__label-arrow:hover:before {color: black;}#sk-container-id-8 div.sk-estimator:hover label.sk-toggleable__label-arrow:before {color: black;}#sk-container-id-8 div.sk-toggleable__content {max-height: 0;max-width: 0;overflow: hidden;text-align: left;background-color: #f0f8ff;}#sk-container-id-8 div.sk-toggleable__content pre {margin: 0.2em;color: black;border-radius: 0.25em;background-color: #f0f8ff;}#sk-container-id-8 input.sk-toggleable__control:checked~div.sk-toggleable__content {max-height: 200px;max-width: 100%;overflow: auto;}#sk-container-id-8 input.sk-toggleable__control:checked~label.sk-toggleable__label-arrow:before {content: \"▾\";}#sk-container-id-8 div.sk-estimator input.sk-toggleable__control:checked~label.sk-toggleable__label {background-color: #d4ebff;}#sk-container-id-8 div.sk-label input.sk-toggleable__control:checked~label.sk-toggleable__label {background-color: #d4ebff;}#sk-container-id-8 input.sk-hidden--visually {border: 0;clip: rect(1px 1px 1px 1px);clip: rect(1px, 1px, 1px, 1px);height: 1px;margin: -1px;overflow: hidden;padding: 0;position: absolute;width: 1px;}#sk-container-id-8 div.sk-estimator {font-family: monospace;background-color: #f0f8ff;border: 1px dotted black;border-radius: 0.25em;box-sizing: border-box;margin-bottom: 0.5em;}#sk-container-id-8 div.sk-estimator:hover {background-color: #d4ebff;}#sk-container-id-8 div.sk-parallel-item::after {content: \"\";width: 100%;border-bottom: 1px solid gray;flex-grow: 1;}#sk-container-id-8 div.sk-label:hover label.sk-toggleable__label {background-color: #d4ebff;}#sk-container-id-8 div.sk-serial::before {content: \"\";position: absolute;border-left: 1px solid gray;box-sizing: border-box;top: 0;bottom: 0;left: 50%;z-index: 0;}#sk-container-id-8 div.sk-serial {display: flex;flex-direction: column;align-items: center;background-color: white;padding-right: 0.2em;padding-left: 0.2em;position: relative;}#sk-container-id-8 div.sk-item {position: relative;z-index: 1;}#sk-container-id-8 div.sk-parallel {display: flex;align-items: stretch;justify-content: center;background-color: white;position: relative;}#sk-container-id-8 div.sk-item::before, #sk-container-id-8 div.sk-parallel-item::before {content: \"\";position: absolute;border-left: 1px solid gray;box-sizing: border-box;top: 0;bottom: 0;left: 50%;z-index: -1;}#sk-container-id-8 div.sk-parallel-item {display: flex;flex-direction: column;z-index: 1;position: relative;background-color: white;}#sk-container-id-8 div.sk-parallel-item:first-child::after {align-self: flex-end;width: 50%;}#sk-container-id-8 div.sk-parallel-item:last-child::after {align-self: flex-start;width: 50%;}#sk-container-id-8 div.sk-parallel-item:only-child::after {width: 0;}#sk-container-id-8 div.sk-dashed-wrapped {border: 1px dashed gray;margin: 0 0.4em 0.5em 0.4em;box-sizing: border-box;padding-bottom: 0.4em;background-color: white;}#sk-container-id-8 div.sk-label label {font-family: monospace;font-weight: bold;display: inline-block;line-height: 1.2em;}#sk-container-id-8 div.sk-label-container {text-align: center;}#sk-container-id-8 div.sk-container {/* jupyter's `normalize.less` sets `[hidden] { display: none; }` but bootstrap.min.css set `[hidden] { display: none !important; }` so we also need the `!important` here to be able to override the default hidden behavior on the sphinx rendered scikit-learn.org. See: https://github.com/scikit-learn/scikit-learn/issues/21755 */display: inline-block !important;position: relative;}#sk-container-id-8 div.sk-text-repr-fallback {display: none;}</style><div id=\"sk-container-id-8\" class=\"sk-top-container\"><div class=\"sk-text-repr-fallback\"><pre>GradientBoostingClassifier()</pre><b>In a Jupyter environment, please rerun this cell to show the HTML representation or trust the notebook. <br />On GitHub, the HTML representation is unable to render, please try loading this page with nbviewer.org.</b></div><div class=\"sk-container\" hidden><div class=\"sk-item\"><div class=\"sk-estimator sk-toggleable\"><input class=\"sk-toggleable__control sk-hidden--visually\" id=\"sk-estimator-id-8\" type=\"checkbox\" checked><label for=\"sk-estimator-id-8\" class=\"sk-toggleable__label sk-toggleable__label-arrow\">GradientBoostingClassifier</label><div class=\"sk-toggleable__content\"><pre>GradientBoostingClassifier()</pre></div></div></div></div></div>"
      ],
      "text/plain": [
       "GradientBoostingClassifier()"
      ]
     },
     "execution_count": 55,
     "metadata": {},
     "output_type": "execute_result"
    }
   ],
   "source": [
    "from sklearn.ensemble import GradientBoostingClassifier\n",
    "gbc = GradientBoostingClassifier()\n",
    "gbc.fit(X_train,y_train)"
   ]
  },
  {
   "cell_type": "code",
   "execution_count": 56,
   "id": "ed4dbf3f",
   "metadata": {},
   "outputs": [
    {
     "data": {
      "text/plain": [
       "73.85159010600707"
      ]
     },
     "execution_count": 56,
     "metadata": {},
     "output_type": "execute_result"
    }
   ],
   "source": [
    "pred3 = gbc.predict(X_test)\n",
    "accuracy_score(y_test,pred3) * 100"
   ]
  },
  {
   "cell_type": "code",
   "execution_count": 46,
   "id": "6910636d",
   "metadata": {},
   "outputs": [
    {
     "data": {
      "text/html": [
       "<style>#sk-container-id-5 {color: black;background-color: white;}#sk-container-id-5 pre{padding: 0;}#sk-container-id-5 div.sk-toggleable {background-color: white;}#sk-container-id-5 label.sk-toggleable__label {cursor: pointer;display: block;width: 100%;margin-bottom: 0;padding: 0.3em;box-sizing: border-box;text-align: center;}#sk-container-id-5 label.sk-toggleable__label-arrow:before {content: \"▸\";float: left;margin-right: 0.25em;color: #696969;}#sk-container-id-5 label.sk-toggleable__label-arrow:hover:before {color: black;}#sk-container-id-5 div.sk-estimator:hover label.sk-toggleable__label-arrow:before {color: black;}#sk-container-id-5 div.sk-toggleable__content {max-height: 0;max-width: 0;overflow: hidden;text-align: left;background-color: #f0f8ff;}#sk-container-id-5 div.sk-toggleable__content pre {margin: 0.2em;color: black;border-radius: 0.25em;background-color: #f0f8ff;}#sk-container-id-5 input.sk-toggleable__control:checked~div.sk-toggleable__content {max-height: 200px;max-width: 100%;overflow: auto;}#sk-container-id-5 input.sk-toggleable__control:checked~label.sk-toggleable__label-arrow:before {content: \"▾\";}#sk-container-id-5 div.sk-estimator input.sk-toggleable__control:checked~label.sk-toggleable__label {background-color: #d4ebff;}#sk-container-id-5 div.sk-label input.sk-toggleable__control:checked~label.sk-toggleable__label {background-color: #d4ebff;}#sk-container-id-5 input.sk-hidden--visually {border: 0;clip: rect(1px 1px 1px 1px);clip: rect(1px, 1px, 1px, 1px);height: 1px;margin: -1px;overflow: hidden;padding: 0;position: absolute;width: 1px;}#sk-container-id-5 div.sk-estimator {font-family: monospace;background-color: #f0f8ff;border: 1px dotted black;border-radius: 0.25em;box-sizing: border-box;margin-bottom: 0.5em;}#sk-container-id-5 div.sk-estimator:hover {background-color: #d4ebff;}#sk-container-id-5 div.sk-parallel-item::after {content: \"\";width: 100%;border-bottom: 1px solid gray;flex-grow: 1;}#sk-container-id-5 div.sk-label:hover label.sk-toggleable__label {background-color: #d4ebff;}#sk-container-id-5 div.sk-serial::before {content: \"\";position: absolute;border-left: 1px solid gray;box-sizing: border-box;top: 0;bottom: 0;left: 50%;z-index: 0;}#sk-container-id-5 div.sk-serial {display: flex;flex-direction: column;align-items: center;background-color: white;padding-right: 0.2em;padding-left: 0.2em;position: relative;}#sk-container-id-5 div.sk-item {position: relative;z-index: 1;}#sk-container-id-5 div.sk-parallel {display: flex;align-items: stretch;justify-content: center;background-color: white;position: relative;}#sk-container-id-5 div.sk-item::before, #sk-container-id-5 div.sk-parallel-item::before {content: \"\";position: absolute;border-left: 1px solid gray;box-sizing: border-box;top: 0;bottom: 0;left: 50%;z-index: -1;}#sk-container-id-5 div.sk-parallel-item {display: flex;flex-direction: column;z-index: 1;position: relative;background-color: white;}#sk-container-id-5 div.sk-parallel-item:first-child::after {align-self: flex-end;width: 50%;}#sk-container-id-5 div.sk-parallel-item:last-child::after {align-self: flex-start;width: 50%;}#sk-container-id-5 div.sk-parallel-item:only-child::after {width: 0;}#sk-container-id-5 div.sk-dashed-wrapped {border: 1px dashed gray;margin: 0 0.4em 0.5em 0.4em;box-sizing: border-box;padding-bottom: 0.4em;background-color: white;}#sk-container-id-5 div.sk-label label {font-family: monospace;font-weight: bold;display: inline-block;line-height: 1.2em;}#sk-container-id-5 div.sk-label-container {text-align: center;}#sk-container-id-5 div.sk-container {/* jupyter's `normalize.less` sets `[hidden] { display: none; }` but bootstrap.min.css set `[hidden] { display: none !important; }` so we also need the `!important` here to be able to override the default hidden behavior on the sphinx rendered scikit-learn.org. See: https://github.com/scikit-learn/scikit-learn/issues/21755 */display: inline-block !important;position: relative;}#sk-container-id-5 div.sk-text-repr-fallback {display: none;}</style><div id=\"sk-container-id-5\" class=\"sk-top-container\"><div class=\"sk-text-repr-fallback\"><pre>LinearRegression()</pre><b>In a Jupyter environment, please rerun this cell to show the HTML representation or trust the notebook. <br />On GitHub, the HTML representation is unable to render, please try loading this page with nbviewer.org.</b></div><div class=\"sk-container\" hidden><div class=\"sk-item\"><div class=\"sk-estimator sk-toggleable\"><input class=\"sk-toggleable__control sk-hidden--visually\" id=\"sk-estimator-id-5\" type=\"checkbox\" checked><label for=\"sk-estimator-id-5\" class=\"sk-toggleable__label sk-toggleable__label-arrow\">LinearRegression</label><div class=\"sk-toggleable__content\"><pre>LinearRegression()</pre></div></div></div></div></div>"
      ],
      "text/plain": [
       "LinearRegression()"
      ]
     },
     "execution_count": 46,
     "metadata": {},
     "output_type": "execute_result"
    }
   ],
   "source": [
    "from sklearn.linear_model import LinearRegression\n",
    "linreg = LinearRegression()\n",
    "linreg.fit(X_train, y_train)"
   ]
  },
  {
   "cell_type": "code",
   "execution_count": 49,
   "id": "2a86d3e5",
   "metadata": {},
   "outputs": [
    {
     "data": {
      "text/plain": [
       "73.85159010600707"
      ]
     },
     "execution_count": 49,
     "metadata": {},
     "output_type": "execute_result"
    }
   ],
   "source": [
    "pred4 = linreg.predict(X_test)\n",
    "accuracy_score(y_test,pred3)*100"
   ]
  },
  {
   "cell_type": "code",
   "execution_count": 57,
   "id": "ef624a57",
   "metadata": {},
   "outputs": [],
   "source": [
    "import pickle\n",
    "with open('LinearRegression.pkl', 'wb') as model_file:\n",
    "    pickle.dump(linreg, model_file)\n",
    "model_file.close()"
   ]
  },
  {
   "cell_type": "code",
   "execution_count": 37,
   "id": "573feaea",
   "metadata": {},
   "outputs": [],
   "source": [
    "with open('rating.pkl', 'wb') as pickle_out:\n",
    "    pickle.dump(rating, pickle_out)\n",
    "\n",
    "# Close the files\n",
    "pickle_out.close()"
   ]
  },
  {
   "cell_type": "code",
   "execution_count": 38,
   "id": "3fc6912d",
   "metadata": {},
   "outputs": [
    {
     "data": {
      "text/plain": [
       "'C:\\\\Users\\\\USER\\\\codsoft\\\\Movie rating'"
      ]
     },
     "execution_count": 38,
     "metadata": {},
     "output_type": "execute_result"
    }
   ],
   "source": [
    "pwd"
   ]
  },
  {
   "cell_type": "code",
   "execution_count": null,
   "id": "6214d2a1",
   "metadata": {},
   "outputs": [],
   "source": []
  }
 ],
 "metadata": {
  "kernelspec": {
   "display_name": "Python 3 (ipykernel)",
   "language": "python",
   "name": "python3"
  },
  "language_info": {
   "codemirror_mode": {
    "name": "ipython",
    "version": 3
   },
   "file_extension": ".py",
   "mimetype": "text/x-python",
   "name": "python",
   "nbconvert_exporter": "python",
   "pygments_lexer": "ipython3",
   "version": "3.10.9"
  }
 },
 "nbformat": 4,
 "nbformat_minor": 5
}
